{
  "cells": [
    {
      "cell_type": "code",
      "execution_count": null,
      "metadata": {
        "id": "Q_guxsJocsSi"
      },
      "outputs": [],
      "source": [
        "import requests\n",
        "from bs4 import BeautifulSoup\n",
        "import tensorflow as tf\n",
        "import json\n",
        "import numpy as np\n",
        "from fuzzywuzzy import fuzz"
      ]
    },
    {
      "cell_type": "code",
      "execution_count": null,
      "metadata": {
        "id": "CtNFi5KWcsSj"
      },
      "outputs": [],
      "source": [
        "# links\n",
        "understat = {\n",
        "    'match_link': 'https://understat.com/match/',\n",
        "    '22/23': {\n",
        "        'EPL': 'https://understat.com/league/EPL/2022',\n",
        "        'Serie A': 'https://understat.com/league/Serie_A/2022',\n",
        "        'La liga': 'https://understat.com/league/La_liga/2022',\n",
        "        'Bundesliga': 'https://understat.com/league/Bundesliga/2022',\n",
        "        'Ligue 1': 'https://understat.com/league/Ligue_1/2022'\n",
        "    }, \n",
        "    '21/22': {\n",
        "        'EPL': 'https://understat.com/league/EPL/2021',\n",
        "        'Serie A': 'https://understat.com/league/Serie_A/2021',\n",
        "        'La liga': 'https://understat.com/league/La_liga/2021',\n",
        "        'Bundesliga': 'https://understat.com/league/Bundesliga/2021',\n",
        "        'Ligue 1': 'https://understat.com/league/Ligue_1/2021'\n",
        "    },\n",
        "    '20/21': {\n",
        "        'EPL': 'https://understat.com/league/EPL/2020',\n",
        "        'Serie A': 'https://understat.com/league/Serie_A/2020',\n",
        "        'La liga': 'https://understat.com/league/La_liga/2020',\n",
        "        'Bundesliga': 'https://understat.com/league/Bundesliga/2020',\n",
        "        'Ligue 1': 'https://understat.com/league/Ligue_1/2020'\n",
        "    },\n",
        "    '19/20': {\n",
        "        'EPL': 'https://understat.com/league/EPL/2019',\n",
        "        'Serie A': 'https://understat.com/league/Serie_A/2019',\n",
        "        'La liga': 'https://understat.com/league/La_liga/2019',\n",
        "        'Bundesliga': 'https://understat.com/league/Bundesliga/2019',\n",
        "        'Ligue 1': 'https://understat.com/league/Ligue_1/2019'\n",
        "    },\n",
        "    '18/19': {\n",
        "        'EPL': 'https://understat.com/league/EPL/2018',\n",
        "        'Serie A': 'https://understat.com/league/Serie_A/2018',\n",
        "        'La liga': 'https://understat.com/league/La_liga/2018',\n",
        "        'Bundesliga': 'https://understat.com/league/Bundesliga/2018',\n",
        "        'Ligue 1': 'https://understat.com/league/Ligue_1/2018'\n",
        "    },\n",
        "    '17/18': {\n",
        "        'EPL': 'https://understat.com/league/EPL/2018',\n",
        "        'Serie A': 'https://understat.com/league/Serie_A/2017',\n",
        "        'La liga': 'https://understat.com/league/La_liga/2017',\n",
        "        'Bundesliga': 'https://understat.com/league/Bundesliga/2017',\n",
        "        'Ligue 1': 'https://understat.com/league/Ligue_1/2017'\n",
        "    },\n",
        "    '16/17': {\n",
        "        'EPL': 'https://understat.com/league/EPL/2016',\n",
        "        'Serie A': 'https://understat.com/league/Serie_A/2016',\n",
        "        'La liga': 'https://understat.com/league/La_liga/2016',\n",
        "        'Bundesliga': 'https://understat.com/league/Bundesliga/2016',\n",
        "        'Ligue 1': 'https://understat.com/league/Ligue_1/2016'\n",
        "    },\n",
        "    '15/16': {\n",
        "        'EPL': 'https://understat.com/league/EPL/2015',\n",
        "        'Serie A': 'https://understat.com/league/Serie_A/2015',\n",
        "        'La liga': 'https://understat.com/league/La_liga/2015',\n",
        "        'Bundesliga': 'https://understat.com/league/Bundesliga/2015',\n",
        "        'Ligue 1': 'https://understat.com/league/Ligue_1/2015'\n",
        "    },\n",
        "    '14/15': {\n",
        "        'EPL': 'https://understat.com/league/EPL/2014',\n",
        "        'Serie A': 'https://understat.com/league/Serie_A/2014',\n",
        "        'La liga': 'https://understat.com/league/La_liga/2014',\n",
        "        'Bundesliga': 'https://understat.com/league/Bundesliga/2014',\n",
        "        'Ligue 1': 'https://understat.com/league/Ligue_1/2014'\n",
        "    },\n",
        "}\n",
        "# enums\n",
        "HOME, AWAY = 0, 1\n",
        "DRAW, WON, LOST = 0, 1, 2\n",
        "W_PTS, D_PTS, L_PTS = 3, 1, 0"
      ]
    },
    {
      "cell_type": "code",
      "execution_count": null,
      "metadata": {
        "id": "4RWaSq3BcsSk"
      },
      "outputs": [],
      "source": [
        "def get_match_stat(id : str) :\n",
        "    url = understat['match_link'] + id\n",
        "    res = requests.get(url)\n",
        "\n",
        "    soup = BeautifulSoup(res.content, 'html.parser')\n",
        "    stat_divs = soup.find_all('div', class_=['progress-title', 'progress-value'])\n",
        "\n",
        "    stats = {}\n",
        "    home_team_stats = {'h/a': HOME}\n",
        "    away_team_stats = {'h/a': AWAY}\n",
        "\n",
        "    for i in range(len(stat_divs)) :\n",
        "        if (stat_divs[i].get('class')[0] != 'progress-title') : continue\n",
        "        \n",
        "        home_team_stats[stat_divs[i].text] = stat_divs[i + 1].text\n",
        "        away_team_stats[stat_divs[i].text] = stat_divs[i + 2].text\n",
        "        \n",
        "        if (stat_divs[i].text != 'GOALS') : continue\n",
        "\n",
        "        if (int(stat_divs[i + 1].text) > int(stat_divs[i + 2].text)) :\n",
        "            home_team_stats['RESULT'] = WON\n",
        "            away_team_stats['RESULT'] = LOST\n",
        "            home_team_stats['POINTS'] = W_PTS\n",
        "            away_team_stats['POINTS'] = L_PTS\n",
        "        elif (int(stat_divs[i + 1].text) < int(stat_divs[i + 2].text)) :\n",
        "            home_team_stats['RESULT'] = LOST\n",
        "            away_team_stats['RESULT'] = WON\n",
        "            home_team_stats['POINTS'] = L_PTS\n",
        "            away_team_stats['POINTS'] = W_PTS\n",
        "        else :\n",
        "            home_team_stats['RESULT'] = DRAW\n",
        "            away_team_stats['RESULT'] = DRAW\n",
        "            home_team_stats['POINTS'] = D_PTS\n",
        "            away_team_stats['POINTS'] = D_PTS\n",
        "        \n",
        "    stats['Home Team'] = home_team_stats\n",
        "    stats['Away Team'] = away_team_stats \n",
        "\n",
        "    return stats\n",
        "    "
      ]
    },
    {
      "cell_type": "code",
      "execution_count": null,
      "metadata": {
        "id": "jcpSUibqcsSk",
        "outputId": "1329699f-93c1-4752-9ce7-da554da63e35"
      },
      "outputs": [
        {
          "name": "stdout",
          "output_type": "stream",
          "text": [
            "{'Home Team': {'h/a': 0, 'TEAMS': 'Arsenal', 'CHANCES': '58%', 'GOALS': '0', 'RESULT': 2, 'POINTS': 0, 'xG': '1.33', 'SHOTS': '22', 'SHOTS ON TARGET': '6', 'DEEP': '11', 'PPDA': '8.17', 'xPTS': '2.01'}, 'Away Team': {'h/a': 1, 'TEAMS': 'West Ham', 'CHANCES': '28%', 'GOALS': '2', 'RESULT': 1, 'POINTS': 3, 'xG': '0.54', 'SHOTS': '8', 'SHOTS ON TARGET': '4', 'DEEP': '0', 'PPDA': '12.45', 'xPTS': '0.71'}}\n"
          ]
        }
      ],
      "source": [
        "print(get_match_stat('88'))"
      ]
    },
    {
      "cell_type": "code",
      "execution_count": null,
      "metadata": {
        "id": "djsQTyPncsSl"
      },
      "outputs": [],
      "source": [
        "def get_match_ids(url : str) :\n",
        "    res = requests.get(url)\n",
        "\n",
        "    soup = BeautifulSoup(res.content, 'lxml')\n",
        "    scripts = soup.find_all('script')\n",
        "    strings = scripts[1].string\n",
        "\n",
        "    ind_start = strings.index(\"('\") + 2\n",
        "    ind_end = strings.index(\"')\")\n",
        "\n",
        "    json_data = strings[ind_start : ind_end]\n",
        "    json_data = json_data.encode('utf8').decode('unicode_escape')\n",
        "\n",
        "    data = json.loads(json_data)\n",
        "\n",
        "    ids = []\n",
        "\n",
        "    for game in data :\n",
        "        if (not game['isResult']) : break\n",
        "\n",
        "        ids.append(game['id'])\n",
        "\n",
        "    return ids\n"
      ]
    },
    {
      "cell_type": "code",
      "execution_count": null,
      "metadata": {
        "id": "BK5nRDV5csSl",
        "outputId": "caff96fe-ef0a-4937-fe94-7316ca0c765d"
      },
      "outputs": [
        {
          "name": "stdout",
          "output_type": "stream",
          "text": [
            "['16376', '16377', '16378', '16379', '16380', '16381', '16382', '16383', '16384', '16385', '16386', '16387', '16388', '16389', '16390', '16391', '16392', '16393', '16394', '16395', '16396', '16397', '16398', '16399', '16400', '16401', '16402', '16403', '16404', '16405', '16406', '16407', '16408', '16409', '16410', '16411', '16412', '16413', '16414', '16415', '16416', '16417', '16418', '16419', '16420', '16421', '16422', '16423', '16424', '16425', '16426', '16431', '16427', '16428', '16429', '16430', '16432', '16433', '16434', '16435', '16442', '16437', '16438', '16440', '16445', '16436', '16439', '16443', '16444', '16441', '16455', '16447', '16450', '16451', '16453', '16454', '16448', '16449', '16452', '16446', '16456', '16459', '16460', '16461', '16462', '16464', '16458', '16457', '16465', '16463', '16468', '16467', '16469', '16470', '16471', '16474', '16473', '16472', '16466', '16475', '16484', '16483', '16477', '16479', '16480', '16478', '16476', '16481', '16482', '16485', '16488', '16486', '16487', '16491', '16492', '16494', '16495', '16489', '16490', '16493', '16496', '16501', '16503', '16505', '16498', '16497', '16502', '16504', '16500', '16513', '16508', '16509', '16510', '16511', '16514', '16506', '16507', '16515', '16512', '16524', '16520', '16521', '16525', '16523', '16518', '16519', '16522', '16516', '16517', '16527', '16534', '16526', '16530', '16533', '16535', '16529', '16532', '16531', '16541', '16545', '16538', '16542', '16536', '16543', '16544', '16548', '16555', '16550', '16552', '16560', '16562', '16563', '16564', '16556', '16557', '16561', '16569', '16570', '16575', '16573', '16568', '16567', '16574', '16576', '16585', '16579', '16577', '16580', '16581', '16578', '16583', '16551', '16554', '16587', '16590', '16591', '16592', '16595', '16586', '16589', '16594', '16607', '16540', '16537', '16605', '16600', '16597', '16601', '16603', '16604', '16596', '16599', '16602', '16598', '16539', '16610', '16612', '16608', '16609', '16613', '16615', '16606', '16611', '16614', '16621', '16616', '16619', '16625', '16623', '16617', '16622', '16624', '16620', '16549', '16634', '16626', '16627', '16628', '16629', '16631', '16633', '16632', '16630', '16635', '16499', '16553', '16559', '16566', '16644', '16642', '16637', '16640', '16643', '16638', '16641', '16645', '16588', '16648', '16646', '16647', '16651', '16652', '16655', '16649', '16654', '16650', '16653', '16565', '16584', '16672', '16572', '16658', '16657', '16663', '16659', '16661', '16662', '16664', '16665', '16656', '16660', '16528', '16636', '16571', '16675', '16666', '16668', '16673', '16680', '16676', '16681', '16683', '16684', '16685', '16679', '16677', '16678', '16682', '16558', '16689', '16692', '16686', '16687', '16695', '16694', '16688', '16691', '16693', '16690', '16699', '16698', '16700', '16702', '16697', '16701', '16669', '16547', '16618', '16671', '16670', '16667', '16715', '16706', '16707', '16709', '16714', '16711', '16712', '16713', '16708', '16710', '16742', '16721', '16716', '16718', '16720', '16725', '16723', '16719', '16724', '16717', '16722', '16730', '16731', '16732', '16734', '16733', '16728', '16726', '16729', '16735', '16727', '16705', '16703', '16582', '16674', '16696', '16593', '16739', '16736', '16737', '16738', '16743', '16745', '16744', '16741', '16740', '16704', '16546', '16639', '16746', '16747', '16748', '16749', '16750', '16751', '16752', '16753', '16754', '16755']\n"
          ]
        }
      ],
      "source": [
        "print((get_match_ids(understat['21/22']['EPL'])))"
      ]
    },
    {
      "cell_type": "code",
      "execution_count": null,
      "metadata": {
        "id": "6MnbG8wJcsSl"
      },
      "outputs": [],
      "source": [
        "def gather(league : str) :\n",
        "    ids = []\n",
        "    for key, value in understat.items() :\n",
        "        if (key == 'match_link') : continue\n",
        "        ids = ids + get_match_ids(value[league])\n",
        "    return ids\n",
        "\n",
        "EPL_ids = gather('EPL')\n",
        "Serie_A_ids = gather('Serie A')\n",
        "La_Liga_ids = gather('La liga')\n",
        "Bundes_ids = gather('Bundesliga')\n",
        "Ligue1_ids = gather('Ligue 1')\n",
        "\n",
        "all_ids = EPL_ids + Serie_A_ids + La_Liga_ids + Bundes_ids + Ligue1_ids"
      ]
    },
    {
      "cell_type": "code",
      "execution_count": null,
      "metadata": {
        "id": "fmpyrgOhcsSl",
        "outputId": "ed4133ed-ee32-40a9-82fa-4393e33ecd4c"
      },
      "outputs": [
        {
          "name": "stdout",
          "output_type": "stream",
          "text": [
            "3100 / 3269 / 3259 / 2637 / 3179\n",
            "Total: 15444\n"
          ]
        }
      ],
      "source": [
        "print(len(EPL_ids), len(Serie_A_ids), len(La_Liga_ids), len(Bundes_ids), len(Ligue1_ids), sep=' / ')\n",
        "print('Total:', len(all_ids))"
      ]
    },
    {
      "cell_type": "code",
      "execution_count": null,
      "metadata": {
        "id": "f_Vr_VSpcsSl"
      },
      "outputs": [],
      "source": [
        "class Club :\n",
        "    def __init__(self, club : str) :\n",
        "        self.index = 0\n",
        "        self.last_5, self.last_10, self.last_15, self.last_25, self.last_38 = [], [], [], [], []\n",
        "        self.club = club\n",
        "\n",
        "    def push_stat(self, stat) :\n",
        "        if (self.index >= 5) :\n",
        "            self.last_5.pop()\n",
        "        self.last_5.append(stat)\n",
        "\n",
        "        if (self.index >= 10) :\n",
        "            self.last_10.pop()\n",
        "        self.last_10.append(stat)\n",
        "\n",
        "        if (self.index >= 15) :\n",
        "            self.last_15.pop()\n",
        "        self.last_15.append(stat)\n",
        "        \n",
        "        if (self.index >= 25) :\n",
        "            self.last_25.pop()\n",
        "        self.last_25.append(stat)\n",
        "\n",
        "        if (self.index >= 38) :\n",
        "            self.last_38.pop()\n",
        "        self.last_38.append(stat)\n",
        "\n",
        "        self.index += 1\n",
        "    \n",
        "    def summarize_last_5(self) :\n",
        "        sum_last_5 = [0, 0, 0, 0, 0, 0, 0, 0, 0, 0]\n",
        "        for stat in self.last_5 :\n",
        "            for i in range(len(stat)) :\n",
        "                sum_last_5[i] += stat[i]\n",
        "        for i in range(len(sum_last_5)) :\n",
        "            sum_last_5[i] /= len(self.last_5)\n",
        "        return sum_last_5\n",
        "    def summarize_last_10(self) :\n",
        "        sum_last_10 = [0, 0, 0, 0, 0, 0, 0, 0, 0, 0]\n",
        "        for stat in self.last_10 :\n",
        "            for i in range(len(stat)) :\n",
        "                sum_last_10[i] += stat[i]\n",
        "        for i in range(len(sum_last_10)) :\n",
        "            sum_last_10[i] /= len(self.last_10)\n",
        "        return sum_last_10\n",
        "    def summarize_last_15(self) :\n",
        "        sum_last_15 = [0, 0, 0, 0, 0, 0, 0, 0, 0, 0]\n",
        "        for stat in self.last_15 :\n",
        "            for i in range(len(stat)) :\n",
        "                sum_last_15[i] += stat[i]\n",
        "        for i in range(len(sum_last_15)) :\n",
        "            sum_last_15[i] /= len(self.last_15)\n",
        "        return sum_last_15\n",
        "    def summarize_last_25(self) :\n",
        "        sum_last_25 = [0, 0, 0, 0, 0, 0, 0, 0, 0, 0]\n",
        "        for stat in self.last_25 :\n",
        "            for i in range(len(stat)) :\n",
        "                sum_last_25[i] += stat[i]\n",
        "        for i in range(len(sum_last_25)) :\n",
        "            sum_last_25[i] /= len(self.last_25)\n",
        "        return sum_last_25\n",
        "    def summarize_last_38(self) :\n",
        "        sum_last_38 = [0, 0, 0, 0, 0, 0, 0, 0, 0, 0]\n",
        "        for stat in self.last_38 :\n",
        "            for i in range(len(stat)) :\n",
        "                sum_last_38[i] += stat[i]\n",
        "        for i in range(len(sum_last_38)) :\n",
        "            sum_last_38[i] /= len(self.last_38)\n",
        "        return sum_last_38\n",
        "\n",
        "    def ready(self) :\n",
        "        if (len(self.last_38) == 38) : return True\n",
        "        return False\n",
        "\n",
        "    def get_stat(self) :\n",
        "        return self.last_5 + self.last_10 + self.last_15 + self.last_25 + self.last_38\n"
      ]
    },
    {
      "cell_type": "code",
      "execution_count": null,
      "metadata": {
        "id": "xtbBQMtGcsSm",
        "outputId": "86ada782-47c7-4f1f-9a0e-0b844c7f6de7"
      },
      "outputs": [
        {
          "name": "stdout",
          "output_type": "stream",
          "text": [
            "['Schalke 04', 'Toulouse', 'Pescara', 'SPAL 2013', 'Real Madrid', 'Bournemouth', 'Brest', 'Parma', 'Hoffenheim', 'Bayern Munich', 'Middlesbrough', 'Hull', 'Brighton', 'Athletic Club', 'Nancy', 'Eibar', 'Genoa', 'Verona', 'Monza', 'Atalanta', 'Crystal Palace', 'Crotone', 'Parma Calcio 1913', 'Sevilla', 'Frosinone', 'Villarreal', 'Hamburger SV', 'Manchester City', 'Rayo Vallecano', 'Napoli', 'Cagliari', 'Sampdoria', 'Levante', 'Girona', 'Nimes', 'Rennes', 'Chievo', 'Swansea', 'Angers', 'Arsenal', 'Bologna', 'Hertha Berlin', 'Cadiz', 'GFC Ajaccio', 'Carpi', 'Almeria', 'Real Betis', 'Lyon', 'Paris Saint Germain', 'Paderborn', 'Real Valladolid', 'Borussia M.Gladbach', 'Udinese', 'Guingamp', 'Elche', 'Marseille', 'Eintracht Frankfurt', 'Cordoba', 'Las Palmas', 'Southampton', 'Greuther Fuerth', 'Fulham', 'Empoli', 'Wolfsburg', 'Auxerre', 'Caen', 'Chelsea', 'Queens Park Rangers', 'Sassuolo', 'Venezia', 'Stoke', 'Mallorca', 'SC Bastia', 'Nantes', 'Lazio', 'Torino', 'RasenBallsport Leipzig', 'Norwich', 'AC Milan', 'Roma', 'Benevento', 'Hannover 96', 'Palermo', 'Tottenham', 'Sporting Gijon', 'Huddersfield', 'Valencia', 'Arminia Bielefeld', 'Cardiff', 'Celta Vigo', 'Mainz 05', 'Nuernberg', 'Wolverhampton Wanderers', 'Atletico Madrid', 'Augsburg', 'Dijon', 'West Bromwich Albion', 'Everton', 'Watford', 'Ajaccio', 'Metz', 'Nice', 'Aston Villa', 'Salernitana', 'VfB Stuttgart', 'Darmstadt', 'Deportivo La Coruna', 'Reims', 'Fortuna Duesseldorf', 'Getafe', 'Nottingham Forest', 'Clermont Foot', 'FC Cologne', 'Lille', 'Fiorentina', 'Burnley', 'Sunderland', 'Real Sociedad', 'Lens', 'Amiens', 'Bochum', 'Manchester United', 'Lorient', 'Espanyol', 'Saint-Etienne', 'Leicester', 'Barcelona', 'Liverpool', 'Evian Thonon Gaillard', 'Inter', 'Leganes', 'Sheffield United', 'Malaga', 'West Ham', 'Bayer Leverkusen', 'Brescia', 'Granada', 'Osasuna', 'Werder Bremen', 'Leeds', 'Bordeaux', 'Cesena', 'Troyes', 'Strasbourg', 'Juventus', 'Brentford', 'Borussia Dortmund', 'Union Berlin', 'Monaco', 'Ingolstadt', 'Cremonese', 'Montpellier', 'Alaves', 'Newcastle United', 'Lecce', 'Freiburg', 'SD Huesca', 'Spezia']\n"
          ]
        }
      ],
      "source": [
        "def get_all_clubs(url) :\n",
        "    clubs = []\n",
        "    res = requests.get(url)\n",
        "\n",
        "    soup = BeautifulSoup(res.content, 'lxml')\n",
        "    scripts = soup.find_all('script')\n",
        "    strings = scripts[1].string\n",
        "\n",
        "    ind_start = strings.index(\"('\") + 2\n",
        "    ind_end = strings.index(\"')\")\n",
        "\n",
        "    json_data = strings[ind_start : ind_end]\n",
        "    json_data = json_data.encode('utf8').decode('unicode_escape')\n",
        "\n",
        "    data = json.loads(json_data)\n",
        "    for i in range(10) :\n",
        "        clubs.append(data[i]['h']['title'])\n",
        "        clubs.append(data[i]['a']['title'])\n",
        "    return set(clubs)\n",
        "\n",
        "all_clubs = []\n",
        "for key, value in understat.items() :\n",
        "    if (key == 'match_link') : continue\n",
        "    for name, link in value.items() :\n",
        "        all_clubs = all_clubs + list(get_all_clubs(link))\n",
        "all_clubs = set(all_clubs)\n",
        "print(list(all_clubs))"
      ]
    },
    {
      "cell_type": "code",
      "execution_count": null,
      "metadata": {
        "id": "SBs9JXWQcsSm",
        "outputId": "7d78a581-f285-462d-a4ad-a7a63d81d0d1"
      },
      "outputs": [
        {
          "name": "stdout",
          "output_type": "stream",
          "text": [
            "158\n"
          ]
        }
      ],
      "source": [
        "print(len(all_clubs))"
      ]
    },
    {
      "cell_type": "code",
      "execution_count": null,
      "metadata": {
        "id": "sUzhQgiGcsSm",
        "outputId": "9b697e92-1188-433a-e0db-48b5a414bd90"
      },
      "outputs": [
        {
          "name": "stdout",
          "output_type": "stream",
          "text": [
            "{'Schalke 04': <__main__.Club object at 0x00000269431CB220>, 'Toulouse': <__main__.Club object at 0x00000269431CB7C0>, 'Pescara': <__main__.Club object at 0x00000269431C80A0>, 'SPAL 2013': <__main__.Club object at 0x00000269431C8130>, 'Real Madrid': <__main__.Club object at 0x00000269431C81F0>, 'Bournemouth': <__main__.Club object at 0x00000269431C8250>, 'Brest': <__main__.Club object at 0x00000269431C8370>, 'Parma': <__main__.Club object at 0x00000269431CAFE0>, 'Hoffenheim': <__main__.Club object at 0x00000269431CB040>, 'Bayern Munich': <__main__.Club object at 0x00000269431CB190>, 'Middlesbrough': <__main__.Club object at 0x00000269431CB2E0>, 'Hull': <__main__.Club object at 0x00000269431C85B0>, 'Brighton': <__main__.Club object at 0x00000269431C87F0>, 'Athletic Club': <__main__.Club object at 0x00000269431C8430>, 'Nancy': <__main__.Club object at 0x00000269431C83A0>, 'Eibar': <__main__.Club object at 0x00000269431C82B0>, 'Genoa': <__main__.Club object at 0x00000269431C82E0>, 'Verona': <__main__.Club object at 0x00000269431CAA10>, 'Monza': <__main__.Club object at 0x00000269431C9150>, 'Atalanta': <__main__.Club object at 0x00000269431CB070>, 'Crystal Palace': <__main__.Club object at 0x00000269431C8040>, 'Crotone': <__main__.Club object at 0x00000269431C8670>, 'Parma Calcio 1913': <__main__.Club object at 0x00000269431CAA70>, 'Sevilla': <__main__.Club object at 0x00000269431CB4F0>, 'Frosinone': <__main__.Club object at 0x00000269431C83D0>, 'Villarreal': <__main__.Club object at 0x00000269431C8610>, 'Hamburger SV': <__main__.Club object at 0x00000269431C86A0>, 'Manchester City': <__main__.Club object at 0x00000269431CB820>, 'Rayo Vallecano': <__main__.Club object at 0x00000269431C8400>, 'Napoli': <__main__.Club object at 0x00000269431C8100>, 'Cagliari': <__main__.Club object at 0x00000269431C8A00>, 'Sampdoria': <__main__.Club object at 0x00000269431CB670>, 'Levante': <__main__.Club object at 0x00000269431CB730>, 'Girona': <__main__.Club object at 0x00000269431C8580>, 'Nimes': <__main__.Club object at 0x00000269431C8E20>, 'Rennes': <__main__.Club object at 0x00000269431C8DF0>, 'Chievo': <__main__.Club object at 0x00000269431C8790>, 'Swansea': <__main__.Club object at 0x00000269431C8730>, 'Angers': <__main__.Club object at 0x00000269431C8820>, 'Arsenal': <__main__.Club object at 0x00000269431C8760>, 'Bologna': <__main__.Club object at 0x00000269431C8640>, 'Hertha Berlin': <__main__.Club object at 0x00000269431C88B0>, 'Cadiz': <__main__.Club object at 0x00000269431C8B80>, 'GFC Ajaccio': <__main__.Club object at 0x00000269431C8BB0>, 'Carpi': <__main__.Club object at 0x00000269431C8700>, 'Almeria': <__main__.Club object at 0x00000269431C8C70>, 'Real Betis': <__main__.Club object at 0x00000269431C8BE0>, 'Lyon': <__main__.Club object at 0x00000269431C8B20>, 'Paris Saint Germain': <__main__.Club object at 0x00000269431C8880>, 'Paderborn': <__main__.Club object at 0x00000269431C8910>, 'Real Valladolid': <__main__.Club object at 0x00000269431C8940>, 'Borussia M.Gladbach': <__main__.Club object at 0x00000269431C89A0>, 'Udinese': <__main__.Club object at 0x00000269431C8850>, 'Guingamp': <__main__.Club object at 0x00000269431C8970>, 'Elche': <__main__.Club object at 0x00000269431C89D0>, 'Marseille': <__main__.Club object at 0x00000269431C8A90>, 'Eintracht Frankfurt': <__main__.Club object at 0x00000269431C8460>, 'Cordoba': <__main__.Club object at 0x00000269431C8A60>, 'Las Palmas': <__main__.Club object at 0x00000269431C8AC0>, 'Southampton': <__main__.Club object at 0x00000269431C8AF0>, 'Greuther Fuerth': <__main__.Club object at 0x00000269431C8DC0>, 'Fulham': <__main__.Club object at 0x00000269431C8550>, 'Empoli': <__main__.Club object at 0x00000269431C88E0>, 'Wolfsburg': <__main__.Club object at 0x00000269431C9C60>, 'Auxerre': <__main__.Club object at 0x00000269431C8C10>, 'Caen': <__main__.Club object at 0x00000269431C9120>, 'Chelsea': <__main__.Club object at 0x00000269431C8D30>, 'Queens Park Rangers': <__main__.Club object at 0x00000269431C8D60>, 'Sassuolo': <__main__.Club object at 0x00000269431C8D90>, 'Venezia': <__main__.Club object at 0x00000269431C8FD0>, 'Stoke': <__main__.Club object at 0x00000269431C8F70>, 'Mallorca': <__main__.Club object at 0x00000269431C8EB0>, 'SC Bastia': <__main__.Club object at 0x00000269431C8E50>, 'Nantes': <__main__.Club object at 0x00000269431C90C0>, 'Lazio': <__main__.Club object at 0x00000269431C8FA0>, 'Torino': <__main__.Club object at 0x00000269431C9000>, 'RasenBallsport Leipzig': <__main__.Club object at 0x00000269431C8D00>, 'Norwich': <__main__.Club object at 0x00000269431C8A30>, 'AC Milan': <__main__.Club object at 0x00000269431C90F0>, 'Roma': <__main__.Club object at 0x00000269431C91E0>, 'Benevento': <__main__.Club object at 0x00000269431C8CA0>, 'Hannover 96': <__main__.Club object at 0x00000269431C9630>, 'Palermo': <__main__.Club object at 0x00000269431C9A80>, 'Tottenham': <__main__.Club object at 0x00000269431C9510>, 'Sporting Gijon': <__main__.Club object at 0x00000269431C9210>, 'Huddersfield': <__main__.Club object at 0x00000269431C9900>, 'Valencia': <__main__.Club object at 0x00000269431C9600>, 'Arminia Bielefeld': <__main__.Club object at 0x00000269431C92D0>, 'Cardiff': <__main__.Club object at 0x00000269431C9270>, 'Celta Vigo': <__main__.Club object at 0x00000269431C91B0>, 'Mainz 05': <__main__.Club object at 0x00000269431C9570>, 'Nuernberg': <__main__.Club object at 0x00000269431C9240>, 'Wolverhampton Wanderers': <__main__.Club object at 0x00000269431C97E0>, 'Atletico Madrid': <__main__.Club object at 0x00000269431C92A0>, 'Augsburg': <__main__.Club object at 0x00000269431C8C40>, 'Dijon': <__main__.Club object at 0x00000269431C9480>, 'West Bromwich Albion': <__main__.Club object at 0x00000269431C9360>, 'Everton': <__main__.Club object at 0x00000269431C9390>, 'Watford': <__main__.Club object at 0x00000269431C8B50>, 'Ajaccio': <__main__.Club object at 0x00000269431C9330>, 'Metz': <__main__.Club object at 0x00000269431C9300>, 'Nice': <__main__.Club object at 0x00000269431C9420>, 'Aston Villa': <__main__.Club object at 0x00000269431C93C0>, 'Salernitana': <__main__.Club object at 0x00000269431C9F30>, 'VfB Stuttgart': <__main__.Club object at 0x00000269431C94E0>, 'Darmstadt': <__main__.Club object at 0x00000269431C9540>, 'Deportivo La Coruna': <__main__.Club object at 0x00000269431C96C0>, 'Reims': <__main__.Club object at 0x00000269431C9720>, 'Fortuna Duesseldorf': <__main__.Club object at 0x00000269431C9ED0>, 'Getafe': <__main__.Club object at 0x00000269431C98D0>, 'Nottingham Forest': <__main__.Club object at 0x00000269431C9D20>, 'Clermont Foot': <__main__.Club object at 0x00000269431C9A50>, 'FC Cologne': <__main__.Club object at 0x00000269431C9F00>, 'Lille': <__main__.Club object at 0x00000269431C85E0>, 'Fiorentina': <__main__.Club object at 0x00000269431C9990>, 'Burnley': <__main__.Club object at 0x00000269431C9CC0>, 'Sunderland': <__main__.Club object at 0x00000269431CA020>, 'Real Sociedad': <__main__.Club object at 0x00000269431C9F60>, 'Lens': <__main__.Club object at 0x00000269431C8E80>, 'Amiens': <__main__.Club object at 0x00000269431C8CD0>, 'Bochum': <__main__.Club object at 0x00000269431C9C90>, 'Manchester United': <__main__.Club object at 0x00000269431CA0E0>, 'Lorient': <__main__.Club object at 0x00000269431C9F90>, 'Espanyol': <__main__.Club object at 0x00000269431C8520>, 'Saint-Etienne': <__main__.Club object at 0x00000269431C9D50>, 'Leicester': <__main__.Club object at 0x00000269431C84F0>, 'Barcelona': <__main__.Club object at 0x00000269431CAF50>, 'Liverpool': <__main__.Club object at 0x00000269431CAE90>, 'Evian Thonon Gaillard': <__main__.Club object at 0x00000269431C8490>, 'Inter': <__main__.Club object at 0x00000269431CB430>, 'Leganes': <__main__.Club object at 0x00000269431CAEF0>, 'Sheffield United': <__main__.Club object at 0x00000269431C9A20>, 'Malaga': <__main__.Club object at 0x00000269431C9BD0>, 'West Ham': <__main__.Club object at 0x00000269431C9CF0>, 'Bayer Leverkusen': <__main__.Club object at 0x00000269431C97B0>, 'Brescia': <__main__.Club object at 0x00000269431C9B40>, 'Granada': <__main__.Club object at 0x00000269431C9B10>, 'Osasuna': <__main__.Club object at 0x00000269431C9C00>, 'Werder Bremen': <__main__.Club object at 0x00000269431C9780>, 'Leeds': <__main__.Club object at 0x00000269431CA4D0>, 'Bordeaux': <__main__.Club object at 0x00000269431CA560>, 'Cesena': <__main__.Club object at 0x00000269431CA6E0>, 'Troyes': <__main__.Club object at 0x00000269431CA710>, 'Strasbourg': <__main__.Club object at 0x00000269431CB2B0>, 'Juventus': <__main__.Club object at 0x00000269431CB9D0>, 'Brentford': <__main__.Club object at 0x00000269431CB850>, 'Borussia Dortmund': <__main__.Club object at 0x00000269431CB5E0>, 'Union Berlin': <__main__.Club object at 0x00000269431CB760>, 'Monaco': <__main__.Club object at 0x00000269431CB580>, 'Ingolstadt': <__main__.Club object at 0x00000269431CBA30>, 'Cremonese': <__main__.Club object at 0x00000269431CAF20>, 'Montpellier': <__main__.Club object at 0x00000269431CAB60>, 'Alaves': <__main__.Club object at 0x00000269431CB790>, 'Newcastle United': <__main__.Club object at 0x00000269431CB880>, 'Lecce': <__main__.Club object at 0x00000269431CB460>, 'Freiburg': <__main__.Club object at 0x00000269431CB3D0>, 'SD Huesca': <__main__.Club object at 0x00000269431CB3A0>, 'Spezia': <__main__.Club object at 0x00000269431CB340>}\n"
          ]
        }
      ],
      "source": [
        "all_club_dict = {}\n",
        "\n",
        "for club in all_clubs :\n",
        "    all_club_dict[club] = Club(club)\n",
        "\n",
        "print(all_club_dict)"
      ]
    },
    {
      "cell_type": "code",
      "execution_count": null,
      "metadata": {
        "id": "N7NrkHzKcsSm"
      },
      "outputs": [],
      "source": [
        "def format_stats(stat) :\n",
        "    game = {}\n",
        "    \n",
        "    game[stat['Home Team']['TEAMS']] = []\n",
        "    game[stat['Away Team']['TEAMS']] = []\n",
        "    \n",
        "    game[stat['Home Team']['TEAMS']].append(stat['Home Team']['h/a'])\n",
        "    if (stat['Home Team']['CHANCES'] != '') :\n",
        "        game[stat['Home Team']['TEAMS']].append(float(stat['Home Team']['CHANCES'][0:len(stat['Home Team']['CHANCES']) - 1]) / 100)\n",
        "    else :\n",
        "        game[stat['Home Team']['TEAMS']].append(0)\n",
        "    game[stat['Home Team']['TEAMS']].append(float(stat['Home Team']['GOALS']) / 10)\n",
        "    game[stat['Home Team']['TEAMS']].append(float(stat['Home Team']['POINTS']) / 3)\n",
        "    game[stat['Home Team']['TEAMS']].append(float(stat['Home Team']['xG']) / 10)\n",
        "    game[stat['Home Team']['TEAMS']].append(float(stat['Home Team']['SHOTS']) / 100)\n",
        "    if (stat['Home Team']['SHOTS'] == '0') :\n",
        "        game[stat['Home Team']['TEAMS']].append(0)\n",
        "    else :\n",
        "        game[stat['Home Team']['TEAMS']].append(float(stat['Home Team']['SHOTS ON TARGET']) / float(stat['Home Team']['SHOTS']))\n",
        "    game[stat['Home Team']['TEAMS']].append(float(stat['Home Team']['DEEP']) / 50)\n",
        "    game[stat['Home Team']['TEAMS']].append(float(stat['Home Team']['PPDA']) / 50)\n",
        "    game[stat['Home Team']['TEAMS']].append(float(stat['Home Team']['xPTS']) / 3)\n",
        "\n",
        "    game[stat['Away Team']['TEAMS']].append(stat['Away Team']['h/a'])\n",
        "    if (stat['Away Team']['CHANCES'] != '') :\n",
        "        game[stat['Away Team']['TEAMS']].append(float(stat['Away Team']['CHANCES'][0:len(stat['Away Team']['CHANCES']) - 1]) / 100)\n",
        "    else :\n",
        "        game[stat['Away Team']['TEAMS']].append(0)\n",
        "    game[stat['Away Team']['TEAMS']].append(float(stat['Away Team']['GOALS']) / 10)\n",
        "    game[stat['Away Team']['TEAMS']].append(float(stat['Away Team']['POINTS']) / 3)\n",
        "    game[stat['Away Team']['TEAMS']].append(float(stat['Away Team']['xG']) / 10)\n",
        "    game[stat['Away Team']['TEAMS']].append(float(stat['Away Team']['SHOTS']) / 100)\n",
        "    if (stat['Away Team']['SHOTS'] == '0') :\n",
        "        game[stat['Away Team']['TEAMS']].append(0)\n",
        "    else :    \n",
        "        game[stat['Away Team']['TEAMS']].append(float(stat['Away Team']['SHOTS ON TARGET']) / float(stat['Away Team']['SHOTS']))\n",
        "    game[stat['Away Team']['TEAMS']].append(float(stat['Away Team']['DEEP']) / 50)\n",
        "    game[stat['Away Team']['TEAMS']].append(float(stat['Away Team']['PPDA']) / 50)\n",
        "    game[stat['Away Team']['TEAMS']].append(float(stat['Away Team']['xPTS']) / 3)\n",
        "\n",
        "    return game"
      ]
    },
    {
      "cell_type": "code",
      "execution_count": null,
      "metadata": {
        "id": "qw6OXIcGcsSn"
      },
      "outputs": [],
      "source": [
        "input, label = [], []\n",
        "res = 0\n",
        "\n",
        "for id in all_ids:\n",
        "    game = get_match_stat(id)\n",
        "    if (game.get('Home Team').get('RESULT') == None) : continue\n",
        "    res = game['Home Team']['RESULT']\n",
        "    game = format_stats(game)\n",
        "\n",
        "    home_team = list(game.items())[0][0]\n",
        "    away_team = list(game.items())[1][0]\n",
        "\n",
        "    if (all_club_dict[home_team].ready() and all_club_dict[away_team].ready()) :\n",
        "        input.append(all_club_dict[home_team].summarize_last_5() \n",
        "            + all_club_dict[home_team].summarize_last_10() \n",
        "            + all_club_dict[home_team].summarize_last_15()\n",
        "            + all_club_dict[home_team].summarize_last_25()\n",
        "            + all_club_dict[home_team].summarize_last_38() \n",
        "            + all_club_dict[away_team].summarize_last_5()\n",
        "            + all_club_dict[away_team].summarize_last_10()\n",
        "            + all_club_dict[away_team].summarize_last_15()\n",
        "            + all_club_dict[away_team].summarize_last_25()\n",
        "            + all_club_dict[away_team].summarize_last_38()\n",
        "        )\n",
        "        label.append(res)\n",
        "    \n",
        "    all_club_dict[home_team].push_stat(list(game.values())[0])\n",
        "    all_club_dict[away_team].push_stat(list(game.values())[1])"
      ]
    },
    {
      "cell_type": "code",
      "execution_count": null,
      "metadata": {
        "id": "cog3v1zkcsSn"
      },
      "outputs": [],
      "source": [
        "input = np.array(input)\n",
        "label = np.array(label)"
      ]
    },
    {
      "cell_type": "code",
      "execution_count": null,
      "metadata": {
        "id": "HeQZhJI7csSn"
      },
      "outputs": [],
      "source": [
        "model = tf.keras.models.Sequential([\n",
        "    tf.keras.layers.Dense(128, input_shape=(100,)),\n",
        "    tf.keras.layers.Dense(128, activation='relu', kernel_regularizer=tf.keras.regularizers.l2(0.01)),\n",
        "    tf.keras.layers.Dropout(0.4),\n",
        "    tf.keras.layers.Dense(64, activation='relu', kernel_regularizer=tf.keras.regularizers.l2(0.01)),\n",
        "    tf.keras.layers.Dropout(0.4),\n",
        "    tf.keras.layers.Dense(64, activation='relu', kernel_regularizer=tf.keras.regularizers.l2(0.01)),\n",
        "    tf.keras.layers.Dropout(0.4),\n",
        "    tf.keras.layers.Dense(3, activation='softmax')\n",
        "])\n",
        "\n",
        "EarlyStopping = tf.keras.callbacks.EarlyStopping(monitor='val_loss', patience=5, restore_best_weights=True)\n",
        "\n",
        "model.compile(optimizer='Adam', loss='sparse_categorical_crossentropy', metrics=['accuracy'])"
      ]
    },
    {
      "cell_type": "code",
      "execution_count": null,
      "metadata": {
        "id": "bziiw59zcsSn",
        "outputId": "66c34e41-8760-4712-ad82-0ce278c4235a"
      },
      "outputs": [
        {
          "name": "stdout",
          "output_type": "stream",
          "text": [
            "Model: \"sequential_17\"\n",
            "_________________________________________________________________\n",
            " Layer (type)                Output Shape              Param #   \n",
            "=================================================================\n",
            " dense_79 (Dense)            (None, 128)               12928     \n",
            "                                                                 \n",
            " dense_80 (Dense)            (None, 128)               16512     \n",
            "                                                                 \n",
            " dropout_24 (Dropout)        (None, 128)               0         \n",
            "                                                                 \n",
            " dense_81 (Dense)            (None, 64)                8256      \n",
            "                                                                 \n",
            " dropout_25 (Dropout)        (None, 64)                0         \n",
            "                                                                 \n",
            " dense_82 (Dense)            (None, 64)                4160      \n",
            "                                                                 \n",
            " dropout_26 (Dropout)        (None, 64)                0         \n",
            "                                                                 \n",
            " dense_83 (Dense)            (None, 3)                 195       \n",
            "                                                                 \n",
            "=================================================================\n",
            "Total params: 42,051\n",
            "Trainable params: 42,051\n",
            "Non-trainable params: 0\n",
            "_________________________________________________________________\n"
          ]
        }
      ],
      "source": [
        "model.summary()"
      ]
    },
    {
      "cell_type": "code",
      "execution_count": null,
      "metadata": {
        "id": "qQ7Jn9zkcsSn",
        "outputId": "20451819-c591-442e-c4b3-b572e39411e8"
      },
      "outputs": [
        {
          "name": "stdout",
          "output_type": "stream",
          "text": [
            "(11475, 100) (11475,)\n"
          ]
        }
      ],
      "source": [
        "print(input.shape, label.shape)"
      ]
    },
    {
      "cell_type": "code",
      "execution_count": null,
      "metadata": {
        "id": "n_zDIYGxcsSo",
        "outputId": "94bdf8de-7724-4397-e240-ad336af9f721"
      },
      "outputs": [
        {
          "name": "stdout",
          "output_type": "stream",
          "text": [
            "Epoch 1/50\n",
            "574/574 [==============================] - 6s 5ms/step - loss: 1.5479 - accuracy: 0.4889 - val_loss: 1.0915 - val_accuracy: 0.4889\n",
            "Epoch 2/50\n",
            "574/574 [==============================] - 3s 5ms/step - loss: 1.0567 - accuracy: 0.5082 - val_loss: 1.0525 - val_accuracy: 0.4863\n",
            "Epoch 3/50\n",
            "574/574 [==============================] - 2s 4ms/step - loss: 1.0396 - accuracy: 0.5065 - val_loss: 1.0497 - val_accuracy: 0.4915\n",
            "Epoch 4/50\n",
            "574/574 [==============================] - 3s 4ms/step - loss: 1.0323 - accuracy: 0.5068 - val_loss: 1.0379 - val_accuracy: 0.4898\n",
            "Epoch 5/50\n",
            "574/574 [==============================] - 3s 4ms/step - loss: 1.0306 - accuracy: 0.5099 - val_loss: 1.0379 - val_accuracy: 0.4919\n",
            "Epoch 6/50\n",
            "574/574 [==============================] - 3s 4ms/step - loss: 1.0303 - accuracy: 0.5097 - val_loss: 1.0390 - val_accuracy: 0.4926\n",
            "Epoch 7/50\n",
            "574/574 [==============================] - 3s 4ms/step - loss: 1.0266 - accuracy: 0.5150 - val_loss: 1.0377 - val_accuracy: 0.4891\n",
            "Epoch 8/50\n",
            "574/574 [==============================] - 3s 5ms/step - loss: 1.0276 - accuracy: 0.5097 - val_loss: 1.0453 - val_accuracy: 0.4908\n",
            "Epoch 9/50\n",
            "574/574 [==============================] - 3s 5ms/step - loss: 1.0263 - accuracy: 0.5081 - val_loss: 1.0501 - val_accuracy: 0.4804\n",
            "Epoch 10/50\n",
            "574/574 [==============================] - 3s 4ms/step - loss: 1.0246 - accuracy: 0.5126 - val_loss: 1.0345 - val_accuracy: 0.4917\n",
            "Epoch 11/50\n",
            "574/574 [==============================] - 3s 5ms/step - loss: 1.0283 - accuracy: 0.5097 - val_loss: 1.0340 - val_accuracy: 0.4902\n",
            "Epoch 12/50\n",
            "574/574 [==============================] - 3s 4ms/step - loss: 1.0289 - accuracy: 0.5136 - val_loss: 1.0374 - val_accuracy: 0.4911\n",
            "Epoch 13/50\n",
            "574/574 [==============================] - 3s 5ms/step - loss: 1.0272 - accuracy: 0.5052 - val_loss: 1.0343 - val_accuracy: 0.4943\n",
            "Epoch 14/50\n",
            "574/574 [==============================] - 3s 5ms/step - loss: 1.0271 - accuracy: 0.5111 - val_loss: 1.0318 - val_accuracy: 0.4902\n",
            "Epoch 15/50\n",
            "574/574 [==============================] - 3s 5ms/step - loss: 1.0279 - accuracy: 0.5078 - val_loss: 1.0326 - val_accuracy: 0.4885\n",
            "Epoch 16/50\n",
            "574/574 [==============================] - 3s 5ms/step - loss: 1.0261 - accuracy: 0.5095 - val_loss: 1.0318 - val_accuracy: 0.4898\n",
            "Epoch 17/50\n",
            "574/574 [==============================] - 3s 5ms/step - loss: 1.0193 - accuracy: 0.5094 - val_loss: 1.0381 - val_accuracy: 0.4810\n",
            "Epoch 18/50\n",
            "574/574 [==============================] - 3s 5ms/step - loss: 1.0222 - accuracy: 0.5146 - val_loss: 1.0295 - val_accuracy: 0.4887\n",
            "Epoch 19/50\n",
            "574/574 [==============================] - 3s 4ms/step - loss: 1.0232 - accuracy: 0.5113 - val_loss: 1.0315 - val_accuracy: 0.4913\n",
            "Epoch 20/50\n",
            "574/574 [==============================] - 3s 5ms/step - loss: 1.0209 - accuracy: 0.5108 - val_loss: 1.0411 - val_accuracy: 0.4865\n",
            "Epoch 21/50\n",
            "574/574 [==============================] - 3s 5ms/step - loss: 1.0231 - accuracy: 0.5102 - val_loss: 1.0315 - val_accuracy: 0.4891\n",
            "Epoch 22/50\n",
            "574/574 [==============================] - 3s 5ms/step - loss: 1.0218 - accuracy: 0.5139 - val_loss: 1.0305 - val_accuracy: 0.4893\n",
            "Epoch 23/50\n",
            "574/574 [==============================] - 3s 5ms/step - loss: 1.0226 - accuracy: 0.5108 - val_loss: 1.0308 - val_accuracy: 0.4937\n"
          ]
        }
      ],
      "source": [
        "history = model.fit(input, label, epochs=50, batch_size=12, validation_split=0.4, callbacks=[EarlyStopping])"
      ]
    },
    {
      "cell_type": "code",
      "execution_count": null,
      "metadata": {
        "id": "yf7uejWdcsSo",
        "outputId": "438548d0-2e61-45c2-af29-731363d42fd4"
      },
      "outputs": [
        {
          "data": {
            "image/png": "[encoded data removed]",
            "text/plain": [
              "<Figure size 640x480 with 1 Axes>"
            ]
          },
          "metadata": {},
          "output_type": "display_data"
        },
        {
          "data": {
            "image/png": "[encoded data removed]",
            "text/plain": [
              "<Figure size 640x480 with 1 Axes>"
            ]
          },
          "metadata": {},
          "output_type": "display_data"
        }
      ],
      "source": [
        "import matplotlib.pyplot as plt\n",
        "\n",
        "def plot(history):\n",
        "  \n",
        "  # The history object contains results on the training and test\n",
        "  # sets for each epoch\n",
        "  acc = history.history['accuracy']\n",
        "  val_acc = history.history['val_accuracy']\n",
        "  loss = history.history['loss']\n",
        "  val_loss = history.history['val_loss']\n",
        "\n",
        "  # Get the number of epochs\n",
        "  epochs = range(len(acc))\n",
        "\n",
        "  plt.title('Training and validation accuracy')\n",
        "  plt.plot(epochs, acc, color='blue', label='Train')\n",
        "  plt.plot(epochs, val_acc, color='orange', label='Val')\n",
        "  plt.xlabel('Epoch')\n",
        "  plt.ylabel('Accuracy')\n",
        "  plt.legend()\n",
        "\n",
        "  _ = plt.figure()\n",
        "  plt.title('Training and validation loss')\n",
        "  plt.plot(epochs, loss, color='blue', label='Train')\n",
        "  plt.plot(epochs, val_loss, color='orange', label='Val')\n",
        "  plt.xlabel('Epoch')\n",
        "  plt.ylabel('Loss')\n",
        "  plt.legend()\n",
        "\n",
        "plot(history)\n"
      ]
    },
    {
      "cell_type": "code",
      "execution_count": null,
      "metadata": {
        "id": "ptFXS3e3csSo",
        "outputId": "403a0422-f959-4ad8-f650-3ad6cb6f3b73"
      },
      "outputs": [
        {
          "name": "stdout",
          "output_type": "stream",
          "text": [
            "RasenBallsport Leipzig, Atalanta, Manchester City\n"
          ]
        }
      ],
      "source": [
        "def match_names(name : str) :\n",
        "        name = name.lower()\n",
        "        closest_approximation = \"\"\n",
        "        greatest_value = -1\n",
        "\n",
        "        for club in all_clubs :\n",
        "            ratio = fuzz.ratio(name, club.lower())\n",
        "            partial_ratio = fuzz.partial_ratio(name, club.lower())\n",
        "\n",
        "            value = ratio * 0.6 + partial_ratio * 0.4\n",
        "\n",
        "            if (value > greatest_value) :\n",
        "                greatest_value = value\n",
        "                closest_approximation = club \n",
        "\n",
        "        if (greatest_value < 35) : return None\n",
        "        else : return closest_approximation\n",
        "\n",
        "print(match_names('Leipzig'), ', ', match_names('Atatata'), ', ', match_names('Man City'), sep=\"\")"
      ]
    },
    {
      "cell_type": "code",
      "execution_count": null,
      "metadata": {
        "id": "Ds1yn0UHcsSo"
      },
      "outputs": [],
      "source": [
        "def predict(home_team, away_team) :\n",
        "    home_team = match_names(home_team)\n",
        "    away_team = match_names(away_team)\n",
        "    input = []\n",
        "\n",
        "    input.append(all_club_dict[home_team].summarize_last_5() \n",
        "            + all_club_dict[home_team].summarize_last_10() \n",
        "            + all_club_dict[home_team].summarize_last_15()\n",
        "            + all_club_dict[home_team].summarize_last_25()\n",
        "            + all_club_dict[home_team].summarize_last_38() \n",
        "            + all_club_dict[away_team].summarize_last_5()\n",
        "            + all_club_dict[away_team].summarize_last_10()\n",
        "            + all_club_dict[away_team].summarize_last_15()\n",
        "            + all_club_dict[away_team].summarize_last_25()\n",
        "            + all_club_dict[away_team].summarize_last_38()\n",
        "        )\n",
        "    \n",
        "    prediction = model.predict(input)\n",
        "\n",
        "    print('DRAW chance:', \"{:.2f}\".format(prediction[0][0] * 100))\n",
        "    print(home_team, 'WIN chance:', \"{:.2f}\".format(prediction[0][1] * 100))\n",
        "    print(away_team, 'WIN chance:', \"{:.2f}\".format(prediction[0][2] * 100))"
      ]
    },
    {
      "cell_type": "code",
      "execution_count": null,
      "metadata": {
        "id": "Ay7I24fVcsSo",
        "outputId": "dec8def6-97b8-407f-ff11-16b335a8443f"
      },
      "outputs": [
        {
          "name": "stdout",
          "output_type": "stream",
          "text": [
            "Football Match Prediction:\n",
            "\n",
            "You entered: Manchester City\n",
            "You entered: Manchester United\n",
            "1/1 [==============================] - 0s 47ms/step\n",
            "DRAW chance: 21.34\n",
            "Manchester City WIN chance: 64.90\n",
            "Manchester United WIN chance: 13.76\n"
          ]
        }
      ],
      "source": [
        "import builtins\n",
        "\n",
        "print(\"Football Match Prediction:\\n\")\n",
        "pred_home_team = builtins.input('Home Team:')\n",
        "print('You entered:', match_names(pred_home_team))\n",
        "pred_away_team = builtins.input('Away Team:')\n",
        "print('You entered:',  match_names(pred_away_team))\n",
        "predict(pred_home_team, pred_away_team)"
      ]
    },
    {
      "cell_type": "markdown",
      "metadata": {
        "id": "1GvTiWapcsSo"
      },
      "source": [
        "CODE FOR SAVING DATA AND QUICKLY GETTING INTO PREDICTIONS"
      ]
    },
    {
      "cell_type": "code",
      "execution_count": null,
      "metadata": {
        "id": "niDc4lfPcsSp"
      },
      "outputs": [],
      "source": [
        "model.save('./prediction_model')"
      ]
    },
    {
      "cell_type": "code",
      "execution_count": null,
      "metadata": {
        "id": "1pNf07NscsSp"
      },
      "outputs": [],
      "source": [
        "save_clubs = {}\n",
        "\n",
        "for club in all_clubs :\n",
        "    save_clubs[club] = [all_club_dict[club].last_5, all_club_dict[club].last_10, all_club_dict[club].last_15, all_club_dict[club].last_25, all_club_dict[club].last_38]\n",
        "\n",
        "np.save('clubs_stats_for_predictions', save_clubs)"
      ]
    },
    {
      "cell_type": "code",
      "source": [],
      "metadata": {
        "id": "Wnqheqi2doXz"
      },
      "execution_count": null,
      "outputs": []
    },
    {
      "cell_type": "markdown",
      "metadata": {
        "id": "xaEg9_D4csSq"
      },
      "source": [
        "RUN FOLLOWING TO QUICKLY GET INTO PREDICTIONS"
      ]
    },
    {
      "cell_type": "code",
      "source": [
        "pip install fuzzywuzzy"
      ],
      "metadata": {
        "colab": {
          "base_uri": "https://localhost:8080/"
        },
        "id": "NLMZ3D-pdm9A",
        "outputId": "125898a9-d9bf-43e4-df6e-0d66b1f5d64c"
      },
      "execution_count": 1,
      "outputs": [
        {
          "output_type": "stream",
          "name": "stdout",
          "text": [
            "Looking in indexes: https://pypi.org/simple, https://us-python.pkg.dev/colab-wheels/public/simple/\n",
            "Collecting fuzzywuzzy\n",
            "  Downloading fuzzywuzzy-0.18.0-py2.py3-none-any.whl (18 kB)\n",
            "Installing collected packages: fuzzywuzzy\n",
            "Successfully installed fuzzywuzzy-0.18.0\n"
          ]
        }
      ]
    },
    {
      "cell_type": "code",
      "execution_count": 2,
      "metadata": {
        "colab": {
          "base_uri": "https://localhost:8080/"
        },
        "id": "8cBdwF0_csSq",
        "outputId": "bf6fbc17-f41d-4ca2-90ab-27356cc487b2"
      },
      "outputs": [
        {
          "output_type": "stream",
          "name": "stderr",
          "text": [
            "/usr/local/lib/python3.8/dist-packages/fuzzywuzzy/fuzz.py:11: UserWarning: Using slow pure-python SequenceMatcher. Install python-Levenshtein to remove this warning\n",
            "  warnings.warn('Using slow pure-python SequenceMatcher. Install python-Levenshtein to remove this warning')\n"
          ]
        }
      ],
      "source": [
        "import requests\n",
        "from bs4 import BeautifulSoup\n",
        "import tensorflow as tf\n",
        "import json\n",
        "import numpy as np\n",
        "from fuzzywuzzy import fuzz\n",
        "\n",
        "# links\n",
        "understat = {\n",
        "    'match_link': 'https://understat.com/match/',\n",
        "    '22/23': {\n",
        "        'EPL': 'https://understat.com/league/EPL/2022',\n",
        "        'Serie A': 'https://understat.com/league/Serie_A/2022',\n",
        "        'La liga': 'https://understat.com/league/La_liga/2022',\n",
        "        'Bundesliga': 'https://understat.com/league/Bundesliga/2022',\n",
        "        'Ligue 1': 'https://understat.com/league/Ligue_1/2022'\n",
        "    }, \n",
        "    '21/22': {\n",
        "        'EPL': 'https://understat.com/league/EPL/2021',\n",
        "        'Serie A': 'https://understat.com/league/Serie_A/2021',\n",
        "        'La liga': 'https://understat.com/league/La_liga/2021',\n",
        "        'Bundesliga': 'https://understat.com/league/Bundesliga/2021',\n",
        "        'Ligue 1': 'https://understat.com/league/Ligue_1/2021'\n",
        "    },\n",
        "    '20/21': {\n",
        "        'EPL': 'https://understat.com/league/EPL/2020',\n",
        "        'Serie A': 'https://understat.com/league/Serie_A/2020',\n",
        "        'La liga': 'https://understat.com/league/La_liga/2020',\n",
        "        'Bundesliga': 'https://understat.com/league/Bundesliga/2020',\n",
        "        'Ligue 1': 'https://understat.com/league/Ligue_1/2020'\n",
        "    },\n",
        "    '19/20': {\n",
        "        'EPL': 'https://understat.com/league/EPL/2019',\n",
        "        'Serie A': 'https://understat.com/league/Serie_A/2019',\n",
        "        'La liga': 'https://understat.com/league/La_liga/2019',\n",
        "        'Bundesliga': 'https://understat.com/league/Bundesliga/2019',\n",
        "        'Ligue 1': 'https://understat.com/league/Ligue_1/2019'\n",
        "    },\n",
        "    '18/19': {\n",
        "        'EPL': 'https://understat.com/league/EPL/2018',\n",
        "        'Serie A': 'https://understat.com/league/Serie_A/2018',\n",
        "        'La liga': 'https://understat.com/league/La_liga/2018',\n",
        "        'Bundesliga': 'https://understat.com/league/Bundesliga/2018',\n",
        "        'Ligue 1': 'https://understat.com/league/Ligue_1/2018'\n",
        "    },\n",
        "    '17/18': {\n",
        "        'EPL': 'https://understat.com/league/EPL/2018',\n",
        "        'Serie A': 'https://understat.com/league/Serie_A/2017',\n",
        "        'La liga': 'https://understat.com/league/La_liga/2017',\n",
        "        'Bundesliga': 'https://understat.com/league/Bundesliga/2017',\n",
        "        'Ligue 1': 'https://understat.com/league/Ligue_1/2017'\n",
        "    },\n",
        "    '16/17': {\n",
        "        'EPL': 'https://understat.com/league/EPL/2016',\n",
        "        'Serie A': 'https://understat.com/league/Serie_A/2016',\n",
        "        'La liga': 'https://understat.com/league/La_liga/2016',\n",
        "        'Bundesliga': 'https://understat.com/league/Bundesliga/2016',\n",
        "        'Ligue 1': 'https://understat.com/league/Ligue_1/2016'\n",
        "    },\n",
        "    '15/16': {\n",
        "        'EPL': 'https://understat.com/league/EPL/2015',\n",
        "        'Serie A': 'https://understat.com/league/Serie_A/2015',\n",
        "        'La liga': 'https://understat.com/league/La_liga/2015',\n",
        "        'Bundesliga': 'https://understat.com/league/Bundesliga/2015',\n",
        "        'Ligue 1': 'https://understat.com/league/Ligue_1/2015'\n",
        "    },\n",
        "    '14/15': {\n",
        "        'EPL': 'https://understat.com/league/EPL/2014',\n",
        "        'Serie A': 'https://understat.com/league/Serie_A/2014',\n",
        "        'La liga': 'https://understat.com/league/La_liga/2014',\n",
        "        'Bundesliga': 'https://understat.com/league/Bundesliga/2014',\n",
        "        'Ligue 1': 'https://understat.com/league/Ligue_1/2014'\n",
        "    },\n",
        "}\n",
        "# enums\n",
        "HOME, AWAY = 0, 1\n",
        "DRAW, WON, LOST = 0, 1, 2\n",
        "W_PTS, D_PTS, L_PTS = 3, 1, 0"
      ]
    },
    {
      "cell_type": "code",
      "execution_count": 5,
      "metadata": {
        "id": "LV0YTPuxcsSq"
      },
      "outputs": [],
      "source": [
        "class Club :\n",
        "    def __init__(self, club : str) :\n",
        "        self.last_5, self.last_10, self.last_15, self.last_25, self.last_38 = [], [], [], [], []\n",
        "        self.club = club"
      ]
    },
    {
      "cell_type": "code",
      "execution_count": 6,
      "metadata": {
        "id": "KzS6N_W1csSq"
      },
      "outputs": [],
      "source": [
        "def get_all_clubs(url) :\n",
        "    clubs = []\n",
        "    res = requests.get(url)\n",
        "\n",
        "    soup = BeautifulSoup(res.content, 'lxml')\n",
        "    scripts = soup.find_all('script')\n",
        "    strings = scripts[1].string\n",
        "\n",
        "    ind_start = strings.index(\"('\") + 2\n",
        "    ind_end = strings.index(\"')\")\n",
        "\n",
        "    json_data = strings[ind_start : ind_end]\n",
        "    json_data = json_data.encode('utf8').decode('unicode_escape')\n",
        "\n",
        "    data = json.loads(json_data)\n",
        "    for i in range(10) :\n",
        "        clubs.append(data[i]['h']['title'])\n",
        "        clubs.append(data[i]['a']['title'])\n",
        "    return set(clubs)\n",
        "\n",
        "all_clubs = []\n",
        "for key, value in understat.items() :\n",
        "    if (key == 'match_link') : continue\n",
        "    for name, link in value.items() :\n",
        "        all_clubs = all_clubs + list(get_all_clubs(link))\n",
        "all_clubs = set(all_clubs)\n",
        "\n",
        "all_club_dict = {}\n",
        "\n",
        "for club in all_clubs :\n",
        "    all_club_dict[club] = Club(club)"
      ]
    },
    {
      "cell_type": "code",
      "execution_count": 7,
      "metadata": {
        "id": "gVam3vUWcsSq"
      },
      "outputs": [],
      "source": [
        "model = tf.keras.models.load_model('./prediction_model')\n",
        "loaded_clubs = np.load('clubs_stats_for_predictions.npy', allow_pickle=True).item()\n",
        "\n",
        "for club in all_clubs :\n",
        "    all_club_dict[club].last_5 = loaded_clubs[club][0][0]\n",
        "    all_club_dict[club].last_10 = loaded_clubs[club][0][1]\n",
        "    all_club_dict[club].last_15 = loaded_clubs[club][0][2]\n",
        "    all_club_dict[club].last_25 = loaded_clubs[club][0][3]\n",
        "    all_club_dict[club].last_38 = loaded_clubs[club][0][4]\n",
        "\n"
      ]
    },
    {
      "cell_type": "code",
      "execution_count": 8,
      "metadata": {
        "id": "MDgNLCFxcsSq"
      },
      "outputs": [],
      "source": [
        "def match_names(name : str) :\n",
        "        name = name.lower()\n",
        "        closest_approximation = \"\"\n",
        "        greatest_value = -1\n",
        "\n",
        "        for club in all_clubs :\n",
        "            ratio = fuzz.ratio(name, club.lower())\n",
        "            partial_ratio = fuzz.partial_ratio(name, club.lower())\n",
        "\n",
        "            value = ratio * 0.6 + partial_ratio * 0.4\n",
        "\n",
        "            if (value > greatest_value) :\n",
        "                greatest_value = value\n",
        "                closest_approximation = club \n",
        "\n",
        "        if (greatest_value < 35) : return None\n",
        "        else : return closest_approximation"
      ]
    },
    {
      "cell_type": "code",
      "execution_count": 9,
      "metadata": {
        "id": "SBXIVkutcsSq"
      },
      "outputs": [],
      "source": [
        "def predict(home_team, away_team) :\n",
        "    home_team = match_names(home_team)\n",
        "    away_team = match_names(away_team)\n",
        "    input = []\n",
        "\n",
        "    input.append(all_club_dict[home_team].last_5 \n",
        "            + all_club_dict[home_team].last_10\n",
        "            + all_club_dict[home_team].last_15\n",
        "            + all_club_dict[home_team].last_25\n",
        "            + all_club_dict[home_team].last_38 \n",
        "            + all_club_dict[away_team].last_5\n",
        "            + all_club_dict[away_team].last_10\n",
        "            + all_club_dict[away_team].last_15\n",
        "            + all_club_dict[away_team].last_25\n",
        "            + all_club_dict[away_team].last_38\n",
        "        )\n",
        "    prediction = model.predict(input)\n",
        "\n",
        "    print('DRAW chance:', \"{:.2f}\".format(prediction[0][0] * 100))\n",
        "    print(home_team, 'WIN chance:', \"{:.2f}\".format(prediction[0][1] * 100))\n",
        "    print(away_team, 'WIN chance:', \"{:.2f}\".format(prediction[0][2] * 100))"
      ]
    },
    {
      "cell_type": "code",
      "execution_count": 14,
      "metadata": {
        "id": "uyDZedfucsSr",
        "outputId": "86f1a3cd-6881-4089-b9fd-067dee890c28",
        "colab": {
          "base_uri": "https://localhost:8080/"
        }
      },
      "outputs": [
        {
          "output_type": "stream",
          "name": "stdout",
          "text": [
            "Football Match Prediction:\n",
            "\n",
            "Home Team:Barcelona\n",
            "You entered: Barcelona\n",
            "Away Team:Real Madrid\n",
            "You entered: Real Madrid\n",
            "1/1 [==============================] - 0s 45ms/step\n",
            "DRAW chance: 26.68\n",
            "Barcelona WIN chance: 30.15\n",
            "Real Madrid WIN chance: 43.17\n"
          ]
        }
      ],
      "source": [
        "import builtins\n",
        "\n",
        "print(\"Football Match Prediction:\\n\")\n",
        "pred_home_team = builtins.input('Home Team:')\n",
        "print('You entered:', match_names(pred_home_team))\n",
        "pred_away_team = builtins.input('Away Team:')\n",
        "print('You entered:',  match_names(pred_away_team))\n",
        "predict(pred_home_team, pred_away_team)"
      ]
    }
  ],
  "metadata": {
    "kernelspec": {
      "display_name": "Python 3",
      "language": "python",
      "name": "python3"
    },
    "language_info": {
      "codemirror_mode": {
        "name": "ipython",
        "version": 3
      },
      "file_extension": ".py",
      "mimetype": "text/x-python",
      "name": "python",
      "nbconvert_exporter": "python",
      "pygments_lexer": "ipython3",
      "version": "3.10.9"
    },
    "orig_nbformat": 4,
    "vscode": {
      "interpreter": {
        "hash": "bb33f6d328f18c07440802b8c66874c52744b86bff5cfe8eb1d71afeb55a2150"
      }
    },
    "colab": {
      "provenance": []
    }
  },
  "nbformat": 4,
  "nbformat_minor": 0
}